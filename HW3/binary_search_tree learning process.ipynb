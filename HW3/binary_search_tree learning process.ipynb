{
 "cells": [
  {
   "cell_type": "markdown",
   "metadata": {},
   "source": [
    "This time, it is even more challenging than last week's assignment. Not sure if I could make it or not. First, as usual, I read the PPT, viewed the YouTube videos, and then studied the websites that appeared on the first pages of Google Search. I tried to complete the coding by myself in the beginning, but sadly it just ended wih tons of error. I had the idea, but not the method sof execution. I know that the professor said that this is 講屁話，but hey, I'm doing my best here. "
   ]
  },
  {
   "cell_type": "code",
   "execution_count": 3,
   "metadata": {},
   "outputs": [
    {
     "ename": "IndentationError",
     "evalue": "expected an indented block (<ipython-input-3-f05df6efd767>, line 10)",
     "output_type": "error",
     "traceback": [
      "\u001b[1;36m  File \u001b[1;32m\"<ipython-input-3-f05df6efd767>\"\u001b[1;36m, line \u001b[1;32m10\u001b[0m\n\u001b[1;33m    if self.root == root:\u001b[0m\n\u001b[1;37m     ^\u001b[0m\n\u001b[1;31mIndentationError\u001b[0m\u001b[1;31m:\u001b[0m expected an indented block\n"
     ]
    }
   ],
   "source": [
    "class TreeNode(object):\n",
    "    def __init__(self, x):\n",
    "        self.val = x\n",
    "        self.left = None\n",
    "        self.right = None\n",
    "\n",
    "class Solution(object):\n",
    "    def insert(self, root, val):\n",
    "    \n",
    "    if self.root == root:\n",
    "        self.val = val              #取代現有數值\n",
    "    elif self.root > root:            #root屬於左子樹部分於\n",
    "        if self.left:\n",
    "            self.left.put(root,val)\n",
    "        else:                       #左子樹為空\n",
    "            self.left = TreeNode(root,val)\n",
    "    else:                           # root屬於右子樹部分於\n",
    "        if self.right:\n",
    "            self.right.put(root,val)\n",
    "        else:                       #右子樹為空\n",
    "            self.right = TreeNode(root,val)\n",
    "\n",
    "\n",
    "\n",
    "    def delete(root, key):\n",
    "  # 要是root不存在，便返回\n",
    "\tif not root: \n",
    "\t\treturn root\n",
    "\t# 要是目標值小於root值，尋找左邊子樹\n",
    "\tif root.val > key: \n",
    "\t\troot.left = delete_Node(root.left, key)\n",
    "\t# 要是目標值大於root值，尋找右邊子樹\n",
    "\telif root.val < key: \n",
    "\t\troot.right= delete_Node(root.right, key)\n",
    "\t#要是目標值=root值，刪掉節點\n",
    "\telse: \n",
    "\t#要是沒有右子樹的話，刪掉節點，新的root點為root左節點\n",
    "\t\tif not root.right:\n",
    "\t\t\treturn root.left\n",
    "\t#要是沒有左子樹的話，刪掉節，新的root點為root右節點\n",
    "\t\tif not root.left:\n",
    "\t\t\treturn root.right\n",
    "  # 如果同時存在左右兩個子節點，則將其值替換為右子樹中的最小值，然後刪掉在右邊子樹中最小節點\n",
    "\t\ttemp_val = root.right\n",
    "\t\tmini_val = temp_val.val\n",
    "\t\twhile temp_val.left:\n",
    "\t\t\ttemp_val = temp_val.left\n",
    "\t\t\tmini_val = temp_val.val\n",
    "\t# 替換\n",
    "\t\troot.val = mini \n",
    "  # 刪掉在右邊子樹中最小節點\n",
    "\t\troot.right = deleteNode(root.right,root.val)\n",
    "\treturn root\n",
    "\n",
    "\n",
    "\n",
    "    def search(self, root, target):\n",
    " \t\n",
    " \tif root is None:\n",
    " \t\treturn None \n",
    " \telif root.target == target:\n",
    " \t\treturn root\t\t\n",
    " \telif root.target > target:\n",
    " \t\treturn self.__find(root.left, target)\n",
    " \telse:\n",
    " \t\treturn self.__find(root.right, target)\n",
    "\n",
    "\n",
    " \tdef modify(self, root, target, new_val):\n",
    "#Pass  Will see other classmates' work"
   ]
  },
  {
   "cell_type": "code",
   "execution_count": 2,
   "metadata": {},
   "outputs": [
    {
     "data": {
      "text/html": [
       "<img src=\"https://s04121155.s3.amazonaws.com/Other+Works/Inkedpython-binary-search-tree-exercise-flowchart-4_LI.jpg\"/>"
      ],
      "text/plain": [
       "<IPython.core.display.Image object>"
      ]
     },
     "execution_count": 2,
     "metadata": {},
     "output_type": "execute_result"
    }
   ],
   "source": [
    "from IPython.display import Image\n",
    "from IPython.core.display import HTML \n",
    "Image(url= \"https://s04121155.s3.amazonaws.com/Other+Works/Inkedpython-binary-search-tree-exercise-flowchart-4_LI.jpg\")"
   ]
  },
  {
   "cell_type": "markdown",
   "metadata": {},
   "source": [
    "reference: https://www.geeksforgeeks.org/change-a-binary-tree-so-that-every-node-stores-sum-of-all-nodes-in-left-subtree/\n",
    "https://www.quora.com/How-can-you-find-an-element-on-a-binary-search-tree\n",
    "https://gist.github.com/jakemmarsh/8273963"
   ]
  }
 ],
 "metadata": {
  "kernelspec": {
   "display_name": "Python 3",
   "language": "python",
   "name": "python3"
  },
  "language_info": {
   "codemirror_mode": {
    "name": "ipython",
    "version": 3
   },
   "file_extension": ".py",
   "mimetype": "text/x-python",
   "name": "python",
   "nbconvert_exporter": "python",
   "pygments_lexer": "ipython3",
   "version": "3.7.4"
  }
 },
 "nbformat": 4,
 "nbformat_minor": 2
}
