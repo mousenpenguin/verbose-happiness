{
 "cells": [
  {
   "cell_type": "markdown",
   "metadata": {},
   "source": [
    "To me, Heap Sort provred to be a far more challenging one of the two. Like usual, I read the PPT example then other websites, but Heap Sort still isnt as understood as Merge Sort. "
   ]
  },
  {
   "cell_type": "code",
   "execution_count": 1,
   "metadata": {},
   "outputs": [
    {
     "ename": "SyntaxError",
     "evalue": "invalid syntax (<ipython-input-1-5e5476efdbb7>, line 1)",
     "output_type": "error",
     "traceback": [
      "\u001b[1;36m  File \u001b[1;32m\"<ipython-input-1-5e5476efdbb7>\"\u001b[1;36m, line \u001b[1;32m1\u001b[0m\n\u001b[1;33m    Python 3.7.0 (v3.7.0:1bf9cc5093, Jun 27 2018, 04:06:47) [MSC v.1914 32 bit (Intel)] on win32\u001b[0m\n\u001b[1;37m             ^\u001b[0m\n\u001b[1;31mSyntaxError\u001b[0m\u001b[1;31m:\u001b[0m invalid syntax\n"
     ]
    }
   ],
   "source": [
    "Python 3.7.0 (v3.7.0:1bf9cc5093, Jun 27 2018, 04:06:47) [MSC v.1914 32 bit (Intel)] on win32\n",
    "Type \"copyright\", \"credits\" or \"license()\" for more information.\n",
    ">>> def heapify(data, element,i ):\n",
    "    biggest = i\n",
    "    left = 2 * i + 1\n",
    "    right = 2 * i + 2\n",
    " \n",
    "      #比較左邊數列和指定數列的大小\n",
    "    if left < element and data[i] < data[left]:\n",
    "        biggest = left\n",
    "        \n",
    "      #比較右邊數列和指定數列的大小\n",
    "    if right < element and data[biggest] < data[right]:\n",
    "        biggest = right\n",
    " \n",
    "      #可更改指定值\n",
    "    if biggest != i:\n",
    "        data[i],data[biggest] = data[biggest],data[i]\n",
    " \n",
    "        heapify(data, element, biggest)\n",
    "\n",
    "        \n",
    ">>> def heapSort(data):\n",
    "    element = len(data)\n",
    " \n",
    "     #建立maxheap\n",
    "    for i in range(element, -1, -1):\n",
    "        heapify(data, element, i)\n",
    "        \n",
    "     #一個個抽取元素\n",
    "    for i in range(element-1, 0, -1):\n",
    "        data[i], data[0] = data[0], data[i]\n",
    "        heapify(data, i, 0)\n",
    "\n",
    "        \n",
    ">>> a=[2,5,7,3,5,8,4,9,1]\n",
    ">>> heapSort(a)\n",
    ">>> print(heapSort)\n",
    "<function heapSort at 0x03AAB588>\n",
    ">>> print(a)\n",
    "[1, 2, 3, 4, 5, 5, 7, 8, 9]\n",
    ">>> \n"
   ]
  },
  {
   "cell_type": "code",
   "execution_count": 2,
   "metadata": {},
   "outputs": [
    {
     "data": {
      "text/html": [
       "<img src=\"https://s04121155.s3.amazonaws.com/Other+Works/HeapSortDiagram.png\"/>"
      ],
      "text/plain": [
       "<IPython.core.display.Image object>"
      ]
     },
     "execution_count": 2,
     "metadata": {},
     "output_type": "execute_result"
    }
   ],
   "source": [
    "from IPython.display import Image\n",
    "from IPython.core.display import HTML \n",
    "Image(url= \"https://s04121155.s3.amazonaws.com/Other+Works/HeapSortDiagram.png\")"
   ]
  },
  {
   "cell_type": "markdown",
   "metadata": {},
   "source": [
    "Reference:\n",
    "Class PPT\n",
    "https://www.geekboots.com/python/heap-sort\n",
    "https://www.programiz.com/dsa/heap-data-structure\n",
    "http://alrightchiu.github.io/SecondRound/comparison-sort-heap-sortdui-ji-pai-xu-fa.html"
   ]
  }
 ],
 "metadata": {
  "kernelspec": {
   "display_name": "Python 3",
   "language": "python",
   "name": "python3"
  },
  "language_info": {
   "codemirror_mode": {
    "name": "ipython",
    "version": 3
   },
   "file_extension": ".py",
   "mimetype": "text/x-python",
   "name": "python",
   "nbconvert_exporter": "python",
   "pygments_lexer": "ipython3",
   "version": "3.7.1"
  }
 },
 "nbformat": 4,
 "nbformat_minor": 2
}
