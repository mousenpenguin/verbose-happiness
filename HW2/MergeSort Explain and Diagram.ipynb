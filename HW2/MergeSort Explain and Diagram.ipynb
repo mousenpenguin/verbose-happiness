{
 "cells": [
  {
   "cell_type": "markdown",
   "metadata": {},
   "source": [
    "At first I went through the examples provided by the class PTT, then I visited several learning websites. Finally I consulted with the code from one of the websites, them added my own learnings into them. "
   ]
  },
  {
   "cell_type": "code",
   "execution_count": 1,
   "metadata": {},
   "outputs": [
    {
     "ename": "SyntaxError",
     "evalue": "invalid syntax (<ipython-input-1-4da0f59fb5c9>, line 1)",
     "output_type": "error",
     "traceback": [
      "\u001b[1;36m  File \u001b[1;32m\"<ipython-input-1-4da0f59fb5c9>\"\u001b[1;36m, line \u001b[1;32m1\u001b[0m\n\u001b[1;33m    Python 3.7.0 (v3.7.0:1bf9cc5093, Jun 27 2018, 04:06:47) [MSC v.1914 32 bit (Intel)] on win32\u001b[0m\n\u001b[1;37m             ^\u001b[0m\n\u001b[1;31mSyntaxError\u001b[0m\u001b[1;31m:\u001b[0m invalid syntax\n"
     ]
    }
   ],
   "source": [
    "Python 3.7.0 (v3.7.0:1bf9cc5093, Jun 27 2018, 04:06:47) [MSC v.1914 32 bit (Intel)] on win32\n",
    "Type \"copyright\", \"credits\" or \"license()\" for more information.\n",
    ">>> def merge(left, right): #define 兩組數列，左與右\n",
    "    final = []  #最後結果之數列\n",
    "    l,m = 0,0   #創建兩個指標和0\n",
    " \n",
    "     #符合條件者，加入結果數列\n",
    "    while l<len(left) and m<len(right):\n",
    "        if left[l] <= right[m]:\n",
    "            final.append(left[l]) \n",
    "            l+=1  #加入l數列\n",
    "        else:\n",
    "            final.append(right[m])  \n",
    "            m+=1  #加入m數列\n",
    "    final += left[l:]\n",
    "    final += right[m:]\n",
    "    return final\n",
    "\n",
    ">>> def mergeSort(array):\n",
    "    if(len(array)<= 1): #已被初步分析的數列\n",
    "        return array\n",
    "\n",
    "    mid = int(len(array)/2)\n",
    "    left = mergeSort(array[:mid])  #左數列會被mergesort直到中間數列\n",
    "    right = mergeSort(array[mid:]) #右數列會被mergesort直到中間數列\n",
    " \n",
    "    return merge(left,right)\n",
    "\n",
    ">>> a = [2,8,4,1,5]\n",
    ">>> print(mergeSort(a))\n",
    "[1, 2, 4, 5, 8]\n",
    ">>> \n"
   ]
  },
  {
   "attachments": {},
   "cell_type": "markdown",
   "metadata": {},
   "source": [
    "![MergeSortDiagram.png](https://s04121155.s3.amazonaws.com/Other+Works/MergeSortDiagram.png)"
   ]
  },
  {
   "cell_type": "markdown",
   "metadata": {},
   "source": [
    "Reference: Teacher's PPT\n",
    "    <https://www.geeksforgeeks.org/merge-sort/>\n",
    "    <https://newaurora.pixnet.net/blog/post/224658923-%E5%90%88%E4%BD%B5%E6%8E%92%E5%BA%8F%E6%B3%95---%E4%BD%BF%E7%94%A8python>\n",
    "    <https://www.simplifiedpython.net/merge-sort-python/>"
   ]
  }
 ],
 "metadata": {
  "kernelspec": {
   "display_name": "Python 3",
   "language": "python",
   "name": "python3"
  },
  "language_info": {
   "codemirror_mode": {
    "name": "ipython",
    "version": 3
   },
   "file_extension": ".py",
   "mimetype": "text/x-python",
   "name": "python",
   "nbconvert_exporter": "python",
   "pygments_lexer": "ipython3",
   "version": "3.7.1"
  }
 },
 "nbformat": 4,
 "nbformat_minor": 2
}
