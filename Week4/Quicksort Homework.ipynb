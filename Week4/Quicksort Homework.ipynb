{
 "cells": [
  {
   "cell_type": "markdown",
   "metadata": {},
   "source": [
    "At first I studied looked through the websites and videos given by the professor. Then begin \n",
    "\n",
    "The below functionality explains how the quicksort has been implemented by sending the input data as an array to the quicksort function. \n",
    "\n",
    "Here I implemented quicksort using recursion as below:"
   ]
  },
  {
   "cell_type": "code",
   "execution_count": 11,
   "metadata": {},
   "outputs": [],
   "source": [
    "def quicksort(array):\n",
    "    if len(array) <= 1:   #check if the whole array has more than one element\n",
    "        return array   #if there is only one or no element, then return array\n",
    "    pivot = array[len(array)//2]   #I decided with the middle element as the pivot, thus half the size of array\n",
    "    left = [x for x in array if x < pivot]   #elements that are smaller than pivot element goes to the new left array\n",
    "    middle = [x for x in array if x == pivot]   #if element is the same as the pivot element, stay in the middle array\n",
    "    right = [x for x in array if x > pivot]   #elements that are larger than pivot elements goes to the new right array\n",
    "    return quicksort(left) + middle+ quicksort(right)   #use 遞迴 to sort the array out"
   ]
  },
  {
   "cell_type": "code",
   "execution_count": 12,
   "metadata": {},
   "outputs": [],
   "source": [
    "array=[11,3,8,5,2,10]"
   ]
  },
  {
   "cell_type": "code",
   "execution_count": 13,
   "metadata": {},
   "outputs": [
    {
     "data": {
      "text/plain": [
       "[2, 3, 5, 8, 10, 11]"
      ]
     },
     "execution_count": 13,
     "metadata": {},
     "output_type": "execute_result"
    }
   ],
   "source": [
    "quicksort(array)"
   ]
  }
 ],
 "metadata": {
  "kernelspec": {
   "display_name": "Python 3",
   "language": "python",
   "name": "python3"
  },
  "language_info": {
   "codemirror_mode": {
    "name": "ipython",
    "version": 3
   },
   "file_extension": ".py",
   "mimetype": "text/x-python",
   "name": "python",
   "nbconvert_exporter": "python",
   "pygments_lexer": "ipython3",
   "version": "3.7.4"
  }
 },
 "nbformat": 4,
 "nbformat_minor": 2
}
